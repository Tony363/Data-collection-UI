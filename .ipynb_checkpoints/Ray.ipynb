{
 "cells": [
  {
   "cell_type": "code",
   "execution_count": 1,
   "metadata": {},
   "outputs": [
    {
     "name": "stderr",
     "output_type": "stream",
     "text": [
      "/home/tony/Desktop/github_repos/xgboost-with-raymond/venv/lib/python3.7/site-packages/sklearn/externals/joblib/__init__.py:15: FutureWarning: sklearn.externals.joblib is deprecated in 0.21 and will be removed in 0.23. Please import this functionality directly from joblib, which can be installed with: pip install joblib. If this warning is raised when loading pickled models, you may need to re-serialize those models with scikit-learn 0.21+.\n",
      "  warnings.warn(msg, category=FutureWarning)\n"
     ]
    }
   ],
   "source": [
    "from random import seed\n",
    "from random import random\n",
    "from sklearn.externals import joblib\n",
    "from sklearn.model_selection import train_test_split\n",
    "from sklearn.metrics import precision_score\n",
    "from sklearn.datasets import dump_svmlight_file\n",
    "import numpy as np\n",
    "import xgboost as xgb\n",
    "import pandas as pd\n",
    "import matplotlib.pyplot as plt\n",
    "import seaborn as sns\n",
    "import operator\n",
    "# import random\n"
   ]
  },
  {
   "cell_type": "code",
   "execution_count": 2,
   "metadata": {},
   "outputs": [
    {
     "name": "stdout",
     "output_type": "stream",
     "text": [
      "[['0.343', '0.459'], ['0.8', '0.33'], ['0.059', '0.391'], ['0.514', '0.787'], ['0.965', '0.837'], ['0.909', '0.765'], ['0.261', '0.575'], ['0.792', '0.507'], ['0.387', '0.124'], ['0.768', '0.242'], ['0.036', '0.399'], ['0.37', '0.004'], ['0.977', '0.779'], ['0.309', '0.121'], ['0.043', '0.655'], ['0.833', '0.019'], ['0.325', '0.35'], ['0.359', '0.891'], ['0.159', '0.959'], ['0.15', '0.572'], ['0.016', '0.312'], ['0.866', '0.082'], ['0.913', '0.095'], ['0.369', '0.317'], ['0.126', '0.876'], ['0.384', '0.655'], ['0.478', '0.613'], ['0.078', '0.713'], ['0.107', '0.048'], ['0.513', '0.673'], ['0.161', '0.865'], ['0.982', '0.091'], ['0.207', '0.431'], ['0.373', '0.384'], ['0.639', '0.308'], ['0.653', '0.622'], ['0.708', '0.181'], ['0.94', '0.398'], ['0.704', '0.53'], ['0.895', '0.011'], ['0.909', '0.856'], ['0.974', '0.764'], ['0.626', '0.37'], ['0.51', '0.203'], ['0.967', '0.263'], ['0.986', '0.843'], ['0.631', '0.39'], ['0.623', '0.852'], ['0.207', '0.28'], ['0.924', '0.451'], ['0.013', '0.626'], ['0.352', '0.108'], ['0.245', '0.894'], ['0.365', '0.516'], ['0.758', '0.466'], ['0.088', '0.945'], ['0.341', '0.803'], ['0.064', '0.744'], ['0.59', '0.228'], ['0.37', '0.165'], ['0.938', '0.477'], ['0.306', '0.721'], ['0.139', '0.732'], ['0.529', '0.804'], ['0.197', '0.961'], ['0.271', '0.045'], ['0.353', '0.609'], ['0.493', '0.643'], ['0.908', '0.584'], ['0.855', '0.317'], ['0.857', '0.973'], ['0.111', '0.687'], ['0.483', '0.075'], ['0.165', '0.615'], ['0.152', '0.095'], ['0.535', '0.7'], ['0.016', '0.204'], ['0.665', '0.796'], ['0.685', '0.589'], ['0.039', '0.09'], ['0.839', '0.94'], ['0.419', '0.45'], ['0.821', '0.76'], ['0.491', '0.587'], ['0.093', '0.14'], ['0.741', '0.36'], ['0.427', '0.313'], ['0.46', '0.739'], ['0.15', '0.955'], ['0.598', '0.53'], ['0.493', '0.648'], ['0.7', '0.062'], ['0.138', '0.204'], ['0.251', '0.163'], ['0.243', '0.115'], ['0.375', '0.909'], ['0.39', '0.537'], ['0.546', '0.494'], ['0.106', '0.26'], ['0.444', '0.653']]\n",
      "[0, 1, 0, 1, 1, 1, 0, 1, 0, 1, 0, 0, 1, 0, 0, 0, 0, 1, 1, 0, 0, 0, 1, 0, 1, 1, 1, 0, 0, 1, 1, 1, 0, 0, 0, 1, 0, 1, 1, 0, 1, 1, 0, 0, 1, 1, 1, 1, 0, 1, 0, 0, 1, 0, 1, 1, 1, 0, 0, 0, 1, 1, 0, 1, 1, 0, 0, 1, 1, 1, 1, 0, 0, 0, 0, 1, 0, 1, 1, 0, 1, 0, 1, 1, 0, 1, 0, 1, 1, 1, 1, 0, 0, 0, 0, 1, 0, 1, 0, 1]\n"
     ]
    }
   ],
   "source": [
    "\n",
    "X=[]\n",
    "Y=[]\n",
    "\n",
    "for _ in range(100):\n",
    "    row=[]\n",
    "    x1 = random()\n",
    "    x2 = random()\n",
    "    px1=str(round(x1,3))\n",
    "    px2=str(round(x2,3))\n",
    "    row.append(px1)\n",
    "    row.append(px2)\n",
    "    X.append(row)\n",
    "    #print(float(px1), float(px2))\n",
    "    if x1+x2>1:  \n",
    "        z=1\n",
    "        Y.append(z)    \n",
    "    else: \n",
    "        z=0\n",
    "        Y.append(z)\n",
    "\n",
    "\n",
    "print(X)\n",
    "print(Y)"
   ]
  },
  {
   "cell_type": "code",
   "execution_count": 3,
   "metadata": {},
   "outputs": [],
   "source": [
    "X = np.array(X)\n",
    "Y = np.array(Y)"
   ]
  },
  {
   "cell_type": "code",
   "execution_count": 4,
   "metadata": {},
   "outputs": [
    {
     "data": {
      "text/html": [
       "<div>\n",
       "<style scoped>\n",
       "    .dataframe tbody tr th:only-of-type {\n",
       "        vertical-align: middle;\n",
       "    }\n",
       "\n",
       "    .dataframe tbody tr th {\n",
       "        vertical-align: top;\n",
       "    }\n",
       "\n",
       "    .dataframe thead th {\n",
       "        text-align: right;\n",
       "    }\n",
       "</style>\n",
       "<table border=\"1\" class=\"dataframe\">\n",
       "  <thead>\n",
       "    <tr style=\"text-align: right;\">\n",
       "      <th></th>\n",
       "      <th>first random</th>\n",
       "      <th>second random</th>\n",
       "    </tr>\n",
       "    <tr>\n",
       "      <th>Y</th>\n",
       "      <th></th>\n",
       "      <th></th>\n",
       "    </tr>\n",
       "  </thead>\n",
       "  <tbody>\n",
       "    <tr>\n",
       "      <th>0</th>\n",
       "      <td>0.343</td>\n",
       "      <td>0.459</td>\n",
       "    </tr>\n",
       "    <tr>\n",
       "      <th>1</th>\n",
       "      <td>0.8</td>\n",
       "      <td>0.33</td>\n",
       "    </tr>\n",
       "    <tr>\n",
       "      <th>0</th>\n",
       "      <td>0.059</td>\n",
       "      <td>0.391</td>\n",
       "    </tr>\n",
       "    <tr>\n",
       "      <th>1</th>\n",
       "      <td>0.514</td>\n",
       "      <td>0.787</td>\n",
       "    </tr>\n",
       "    <tr>\n",
       "      <th>1</th>\n",
       "      <td>0.965</td>\n",
       "      <td>0.837</td>\n",
       "    </tr>\n",
       "    <tr>\n",
       "      <th>...</th>\n",
       "      <td>...</td>\n",
       "      <td>...</td>\n",
       "    </tr>\n",
       "    <tr>\n",
       "      <th>1</th>\n",
       "      <td>0.375</td>\n",
       "      <td>0.909</td>\n",
       "    </tr>\n",
       "    <tr>\n",
       "      <th>0</th>\n",
       "      <td>0.39</td>\n",
       "      <td>0.537</td>\n",
       "    </tr>\n",
       "    <tr>\n",
       "      <th>1</th>\n",
       "      <td>0.546</td>\n",
       "      <td>0.494</td>\n",
       "    </tr>\n",
       "    <tr>\n",
       "      <th>0</th>\n",
       "      <td>0.106</td>\n",
       "      <td>0.26</td>\n",
       "    </tr>\n",
       "    <tr>\n",
       "      <th>1</th>\n",
       "      <td>0.444</td>\n",
       "      <td>0.653</td>\n",
       "    </tr>\n",
       "  </tbody>\n",
       "</table>\n",
       "<p>100 rows × 2 columns</p>\n",
       "</div>"
      ],
      "text/plain": [
       "   first random second random\n",
       "Y                            \n",
       "0         0.343         0.459\n",
       "1           0.8          0.33\n",
       "0         0.059         0.391\n",
       "1         0.514         0.787\n",
       "1         0.965         0.837\n",
       "..          ...           ...\n",
       "1         0.375         0.909\n",
       "0          0.39         0.537\n",
       "1         0.546         0.494\n",
       "0         0.106          0.26\n",
       "1         0.444         0.653\n",
       "\n",
       "[100 rows x 2 columns]"
      ]
     },
     "execution_count": 4,
     "metadata": {},
     "output_type": "execute_result"
    }
   ],
   "source": [
    "\n",
    "df = pd.DataFrame(X)\n",
    "df.columns = ['first random', 'second random']\n",
    "df['Y'] = Y\n",
    "\n",
    "df = df[['Y', 'first random', 'second random']]\n",
    "df.set_index('Y')"
   ]
  },
  {
   "cell_type": "code",
   "execution_count": 5,
   "metadata": {},
   "outputs": [
    {
     "data": {
      "image/png": "[encoded data removed]",
      "text/plain": [
       "<Figure size 432x288 with 1 Axes>"
      ]
     },
     "metadata": {
      "needs_background": "light"
     },
     "output_type": "display_data"
    }
   ],
   "source": [
    "\n",
    "\n",
    "# plt.hist(df[['first random','second random']], color='blue',edgecolor='blue', bins=int(180/50))\n",
    "# pd.plotting.scatter_matrix(df)\n",
    "# sns.pairplot(df)\n",
    "\n",
    "\n",
    "\n",
    "plt.hist(X)\n",
    "plt.show()"
   ]
  },
  {
   "cell_type": "code",
   "execution_count": 6,
   "metadata": {},
   "outputs": [],
   "source": [
    "X_train, X_test, y_train, y_test = train_test_split(X, Y, test_size=0.2, random_state=42)\n",
    "\n",
    "# dtrain = xgb.DMatrix(X[:70],label=Y[:70])\n",
    "# dtest = xgb.DMatrix(X[71:],label=Y[71:])\n",
    "\n"
   ]
  },
  {
   "cell_type": "code",
   "execution_count": 7,
   "metadata": {},
   "outputs": [
    {
     "data": {
      "text/plain": [
       "(80, 2)"
      ]
     },
     "execution_count": 7,
     "metadata": {},
     "output_type": "execute_result"
    }
   ],
   "source": [
    "X_train.shape\n"
   ]
  },
  {
   "cell_type": "code",
   "execution_count": 8,
   "metadata": {},
   "outputs": [
    {
     "data": {
      "text/plain": [
       "(20, 2)"
      ]
     },
     "execution_count": 8,
     "metadata": {},
     "output_type": "execute_result"
    }
   ],
   "source": [
    "X_test.shape"
   ]
  },
  {
   "cell_type": "code",
   "execution_count": 9,
   "metadata": {},
   "outputs": [
    {
     "data": {
      "text/plain": [
       "array([1, 0, 1, 1, 1, 0, 1, 1, 0, 0, 1, 1, 0, 0, 1, 1, 0, 1, 1, 1])"
      ]
     },
     "execution_count": 9,
     "metadata": {},
     "output_type": "execute_result"
    }
   ],
   "source": [
    "y_test"
   ]
  },
  {
   "cell_type": "code",
   "execution_count": 10,
   "metadata": {},
   "outputs": [
    {
     "data": {
      "text/plain": [
       "array([1, 1, 1, 0, 1, 0, 1, 0, 1, 0, 0, 1, 1, 0, 0, 1, 0, 0, 1, 0, 1, 0,\n",
       "       1, 1, 0, 0, 0, 1, 0, 0, 1, 1, 1, 1, 0, 1, 0, 1, 0, 1, 1, 1, 1, 0,\n",
       "       0, 1, 1, 1, 1, 1, 0, 1, 0, 0, 0, 0, 1, 0, 0, 0, 1, 0, 1, 1, 1, 1,\n",
       "       0, 0, 0, 1, 0, 0, 0, 1, 0, 1, 0, 0, 0, 0])"
      ]
     },
     "execution_count": 10,
     "metadata": {},
     "output_type": "execute_result"
    }
   ],
   "source": [
    "y_train"
   ]
  },
  {
   "cell_type": "code",
   "execution_count": 11,
   "metadata": {},
   "outputs": [],
   "source": [
    "dtrain = xgb.DMatrix(X_train,label=y_train)\n",
    "dtest = xgb.DMatrix(X_test,label=y_test)"
   ]
  },
  {
   "cell_type": "code",
   "execution_count": 12,
   "metadata": {},
   "outputs": [],
   "source": [
    "# dump_svmlight_file(X_train, y_train,'dtrain.svm')\n",
    "# dump_svmlight_file(X_test, y_test, 'dtest.svm')"
   ]
  },
  {
   "cell_type": "code",
   "execution_count": 13,
   "metadata": {},
   "outputs": [],
   "source": [
    "# dtrain_svm = xgb.DMatrix('dtrain.svm')\n",
    "# dtest_svm = xgb.DMatrix('dtest.svm')"
   ]
  },
  {
   "cell_type": "code",
   "execution_count": 14,
   "metadata": {},
   "outputs": [],
   "source": [
    "param = {\n",
    "        'max_depth': 3, \n",
    "        'eta': 2, \n",
    "        'objective': 'binary:logistic'\n",
    "        }\n",
    "param['nthread'] = 4\n",
    "param['eval_metric'] = 'auc'\n",
    "evallist = [(dtest, 'eval'), (dtrain, 'train')]\n",
    "num_round = 5"
   ]
  },
  {
   "cell_type": "code",
   "execution_count": 15,
   "metadata": {},
   "outputs": [
    {
     "name": "stdout",
     "output_type": "stream",
     "text": [
      "[0]\teval-auc:0.802198\ttrain-auc:0.957786\n",
      "[1]\teval-auc:0.983516\ttrain-auc:0.983427\n",
      "[2]\teval-auc:0.983516\ttrain-auc:0.983427\n",
      "[3]\teval-auc:0.917582\ttrain-auc:0.988743\n",
      "[4]\teval-auc:0.917582\ttrain-auc:0.985616\n",
      "[9.9276346e-01 5.7915930e-02 9.9886310e-01 9.9886310e-01 3.9033309e-02\n",
      " 3.9033309e-02 3.9033309e-02 9.9886310e-01 9.1130991e-04 5.7915930e-02\n",
      " 9.5166230e-01 9.5166230e-01 4.7371308e-03 2.1722246e-02 9.9886310e-01\n",
      " 9.9886310e-01 4.4210322e-04 9.9886310e-01 9.9886310e-01 3.9033309e-02]\n"
     ]
    }
   ],
   "source": [
    "bst = xgb.train(param, dtrain, num_round, evallist)\n",
    "preds = bst.predict(dtest)\n",
    "best_preds = np.asarray([np.argmax(line) for line in preds])\n",
    "print(preds)\n",
    "\n",
    "\n"
   ]
  },
  {
   "cell_type": "code",
   "execution_count": 16,
   "metadata": {},
   "outputs": [],
   "source": [
    "# bst.save_model('0001.model')\n",
    "# bst.dump_model('dump.raw.txt')"
   ]
  },
  {
   "cell_type": "code",
   "execution_count": 17,
   "metadata": {},
   "outputs": [],
   "source": [
    "# bst_svm = xgb.train(param, dtrain_svm, num_round, evallist)\n",
    "# preds_ = bst.predict(dtest_svm)\n",
    "# best_preds_svm = [np.argmax(line) for line in preds_]"
   ]
  },
  {
   "cell_type": "code",
   "execution_count": 18,
   "metadata": {},
   "outputs": [],
   "source": [
    "# bst_svm.save_model('0002.model')\n",
    "# bst_svm.dump_model('dump_svm.raw.txt','featmap.txt')"
   ]
  },
  {
   "cell_type": "code",
   "execution_count": 19,
   "metadata": {},
   "outputs": [],
   "source": [
    "# bst = xgb.Booster({'nthread': 4})  # init model\n",
    "# bst.load_model('model.bin')  # load data\n",
    "\n"
   ]
  },
  {
   "cell_type": "code",
   "execution_count": 20,
   "metadata": {},
   "outputs": [
    {
     "name": "stdout",
     "output_type": "stream",
     "text": [
      "Numpy array precision:0.0\n"
     ]
    },
    {
     "name": "stderr",
     "output_type": "stream",
     "text": [
      "/home/tony/Desktop/github_repos/xgboost-with-raymond/venv/lib/python3.7/site-packages/sklearn/metrics/_classification.py:1272: UndefinedMetricWarning: Precision is ill-defined and being set to 0.0 due to no predicted samples. Use `zero_division` parameter to control this behavior.\n",
      "  _warn_prf(average, modifier, msg_start, len(result))\n"
     ]
    }
   ],
   "source": [
    "print(\"Numpy array precision:{}\".format(precision_score(y_test, best_preds )))\n",
    "    \n",
    "# print(\"Svm file precision:{}\".format(precision_score(Y_test, best_preds_svm)))"
   ]
  },
  {
   "cell_type": "code",
   "execution_count": null,
   "metadata": {},
   "outputs": [],
   "source": []
  }
 ],
 "metadata": {
  "kernelspec": {
   "display_name": "Python 3",
   "language": "python",
   "name": "python3"
  },
  "language_info": {
   "codemirror_mode": {
    "name": "ipython",
    "version": 3
   },
   "file_extension": ".py",
   "mimetype": "text/x-python",
   "name": "python",
   "nbconvert_exporter": "python",
   "pygments_lexer": "ipython3",
   "version": "3.7.5"
  }
 },
 "nbformat": 4,
 "nbformat_minor": 2
}

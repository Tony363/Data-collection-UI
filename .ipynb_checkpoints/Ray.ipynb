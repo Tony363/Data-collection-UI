{
 "cells": [
  {
   "cell_type": "code",
   "execution_count": 0,
   "metadata": {},
   "outputs": [],
   "source": [
    "from random import seed\n",
    "from random import random\n",
    "from sklearn.externals import joblib\n",
    "from sklearn.model_selection import train_test_split\n",
    "from sklearn.metrics import precision_score\n",
    "import numpy as np\n",
    "import xgboost as xgb\n",
    "import operator\n"
   ]
  },
  {
   "cell_type": "code",
   "execution_count": 0,
   "metadata": {},
   "outputs": [],
   "source": [
    "\n",
    "X=[]\n",
    "Y=[]\n",
    "\n",
    "for _ in range(100):\n",
    "    row=[]\n",
    "    x1 = random()\n",
    "    x2 = random()\n",
    "    px1=str(round(x1,3))\n",
    "    px2=str(round(x2,3))\n",
    "    row.append(x1)\n",
    "    row.append(x2)\n",
    "    X.append(row)\n",
    "    #print(float(px1), float(px2))\n",
    "    if x1+x2>1:  \n",
    "        z=1\n",
    "        Y.append(z)    \n",
    "    else: \n",
    "        z=0\n",
    "        Y.append(z)\n",
    "\n",
    "\n",
    "print(X)\n",
    "print(Y)"
   ]
  },
  {
   "cell_type": "code",
   "execution_count": 0,
   "metadata": {},
   "outputs": [],
   "source": [
    "X_train, X_test, Y_train, Y_test = train_test_split(X, Y, test_size=0.2, random_state=42)\n",
    "\n",
    "dtrain = xgb.DMatrix(X[0:70],label=Y[0:70])\n",
    "dtest = xgb.DMatrix(X[71:100],label=Y[71:100])\n",
    "\n",
    "dtrain_svm = xgb.DMatrix('dtrain.svm')\n",
    "dtest_svm = xgb.DMatrix('dtest.svm')"
   ]
  },
  {
   "cell_type": "code",
   "execution_count": 0,
   "metadata": {},
   "outputs": [],
   "source": [
    "param = {\n",
    "        'max_depth': 3, \n",
    "        'eta': 2, \n",
    "        'objective': 'binary:logistic'\n",
    "        }\n",
    "param['nthread'] = 4\n",
    "param['eval_metric'] = 'auc'\n",
    "evallist = [(dtest, 'eval'), (dtrain, 'train')]\n",
    "num_round = 5"
   ]
  },
  {
   "cell_type": "code",
   "execution_count": 0,
   "metadata": {},
   "outputs": [],
   "source": [
    "bst = xgb.train(param, dtrain, num_round, evallist)\n",
    "preds = bst.predict(dtest)\n",
    "best_preds = np.asarray([np.argmax(line) for line in preds])\n",
    "print(preds)\n",
    "\n",
    "\n"
   ]
  },
  {
   "cell_type": "code",
   "execution_count": 0,
   "metadata": {},
   "outputs": [],
   "source": [
    "bst.save_model('0001.model')\n",
    "bst.dump_model('dump.raw.txt')"
   ]
  },
  {
   "cell_type": "code",
   "execution_count": 0,
   "metadata": {},
   "outputs": [],
   "source": [
    "bst_svm = xgb.train(param, dtrain_svm, num_round)\n",
    "preds_ = bst.predict(dtest_svm)\n",
    "best_preds_svm = [np.argmax(line) for line in preds_]"
   ]
  },
  {
   "cell_type": "code",
   "execution_count": 0,
   "metadata": {},
   "outputs": [],
   "source": [
    "bst_svm.save_model('0002.model')\n",
    "bst_svm.dump_model('dump_svm.raw.txt','featmap.txt')"
   ]
  },
  {
   "cell_type": "code",
   "execution_count": 0,
   "metadata": {},
   "outputs": [],
   "source": [
    "bst = xgb.Booster({'nthread': 4})  # init model\n",
    "bst.load_model('model.bin')  # load data\n",
    "\n"
   ]
  },
  {
   "cell_type": "code",
   "execution_count": 0,
   "metadata": {},
   "outputs": [],
   "source": [
    "print(\"Numpy array precision:{}\".format(precision_score(Y_test, best_preds )))\n",
    "    \n",
    "print(\"Svm file precision:{}\".format(precision_score(Y_test, best_preds_svm)) )"
   ]
  }
 ],
 "metadata": {
  "kernelspec": {
   "display_name": "Python 3",
   "language": "python",
   "name": "python3"
  }
 },
 "nbformat": 4,
 "nbformat_minor": 2
}
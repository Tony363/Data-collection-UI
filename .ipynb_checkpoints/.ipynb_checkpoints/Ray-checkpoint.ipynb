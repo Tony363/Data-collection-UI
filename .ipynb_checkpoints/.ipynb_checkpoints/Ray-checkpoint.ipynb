{
 "cells": [
  {
   "cell_type": "code",
   "execution_count": 1,
   "metadata": {},
   "outputs": [
    {
     "name": "stderr",
     "output_type": "stream",
     "text": [
      "c:\\users\\tony\\desktop\\github\\xgboost-with-raymond\\venv\\lib\\site-packages\\sklearn\\externals\\joblib\\__init__.py:15: DeprecationWarning: sklearn.externals.joblib is deprecated in 0.21 and will be removed in 0.23. Please import this functionality directly from joblib, which can be installed with: pip install joblib. If this warning is raised when loading pickled models, you may need to re-serialize those models with scikit-learn 0.21+.\n",
      "  warnings.warn(msg, category=DeprecationWarning)\n"
     ]
    }
   ],
   "source": [
    "from random import seed\n",
    "from random import random\n",
    "from sklearn.externals import joblib\n",
    "from sklearn.model_selection import train_test_split\n",
    "from sklearn.metrics import precision_score\n",
    "import numpy as np\n",
    "import xgboost as xgb\n",
    "import operator\n"
   ]
  },
  {
   "cell_type": "code",
   "execution_count": 2,
   "metadata": {},
   "outputs": [
    {
     "name": "stdout",
     "output_type": "stream",
     "text": [
      "[[0.07492152389799345, 0.0036653238582941006], [0.21462207147529633, 0.30265928373210527], [0.5415540757263623, 0.18043142466310336], [0.19870892887747638, 0.7782787468044488], [0.8791535986183675, 0.8228234528499149], [0.7227691299733232, 0.8357911266804295], [0.47846866323947046, 0.1832383227391815], [0.9323102682737797, 0.8820545660704148], [0.5331482932871969, 0.2993020953049438], [0.5140270884074838, 0.04802534945611481], [0.5256416865468609, 0.9976845214386919], [0.5042359024868882, 0.4883512417379865], [0.30527023410635934, 0.93333676065232], [0.9535851128682493, 0.06470423199328945], [0.3070816727961845, 0.1327008767705795], [0.6583196285526371, 0.853090243612345], [0.757417891818314, 0.794786929290869], [0.36975172025089054, 0.3527148093205048], [0.8359896342142892, 0.6498131047275761], [0.6545785870181299, 0.35774693338661956], [0.4062091117092871, 0.2129273893891538], [0.9328151162258764, 0.9534588818180657], [0.4014394746288733, 0.008271587182896445], [0.7774138759683011, 0.5112686255996733], [0.7416989658512987, 0.4418333963635629], [0.09295445372234667, 0.7221888595824134], [0.08631041881746138, 0.8119562964217353], [0.09516521392066257, 0.8739944127556326], [0.8648155015843287, 0.3839180912416511], [0.2030954787311492, 0.7797021160284959], [0.09973747029040747, 0.38751235337047707], [0.03723660559198272, 0.3643969751866153], [0.2646687149035458, 0.8970799404481521], [0.6919697623668142, 0.5903472855878511], [0.47510474298657523, 0.4470389498134755], [0.6696370875293571, 0.06492782977966993], [0.5778994285409038, 0.2672600485896832], [0.36908292592793, 0.452684997345257], [0.9212293175956392, 0.5098724204049095], [0.424279312277289, 0.00832410275328943], [0.41240676973788537, 0.4077725009784362], [0.28059196061232894, 0.7828933214869672], [0.4334730614918968, 0.7546459975613269], [0.31858630479311745, 0.8922246156296497], [0.5938119264754529, 0.10533855638484746], [0.06316734774447752, 0.12182792071444981], [0.22357679425591748, 0.32675602995149444], [0.4456843275411224, 0.2046205188539092], [0.06472037211593695, 0.31812347444344014], [0.5259951364296045, 0.7506854885120697], [0.7599828788319218, 0.22091440884906577], [0.137427575585225, 0.7073236927723617], [0.7567544072574821, 0.3658550090470861], [0.7687252316590265, 0.6806530991243446], [0.8422466839731566, 0.7202544698340969], [0.9485783809455176, 0.483119876778797], [0.7048876861968898, 0.35629803091500123], [0.35430883418331316, 0.04996605575942836], [0.6197692119098739, 0.8682768361230399], [0.7125563703934391, 0.7926457185915009], [0.22899925089035555, 0.42271820920843206], [0.06061950428456564, 0.5183180290464164], [0.3063404212068711, 0.5766156631870926], [0.13460430814674862, 0.9719611982896323], [0.05863838772699814, 0.36185999432274274], [0.4851958348197757, 0.9496753895702026], [0.8994623064818308, 0.7613507850500868], [0.19742781997337366, 0.35712906135767586], [0.10041523790827955, 0.7696823274625231], [0.5847278043828545, 0.6457980258355298], [0.0729313547114967, 0.34320621295208653], [0.006098308103881345, 0.39415412469066247], [0.10721656058554674, 0.4645363793673498], [0.2044051082892009, 0.3629328406861434], [0.6212898968176345, 0.685914140433868], [0.27438311847309993, 0.9421151809462858], [0.14890651842040836, 0.19874768430745804], [0.9217536911421041, 0.7251667215375893], [0.5779957176111623, 0.7976402818740287], [0.8446668586604302, 0.35057867036685275], [0.674159203491188, 0.7598398418313798], [0.6768177709350869, 0.888824600467152], [0.38356066462282956, 0.8704921202975445], [0.0022805653815588522, 0.6690428337296047], [0.5079892415410153, 0.8983133748085794], [0.21530188616334656, 0.16933663031610524], [0.3885212704898159, 0.8555864341195504], [0.19331703929668098, 0.29334590736780475], [0.622231795975478, 0.3771030058726045], [0.9487012179833034, 0.6904665131908703], [0.952879010371197, 0.49724549680147845], [0.15610818932334491, 0.43087599038848856], [0.7361361996694809, 0.8470530788500675], [0.8724494949252247, 0.3121351941645466], [0.21425728219514772, 0.3926038070893829], [0.7806314944682362, 0.08896158377609886], [0.5282001139731177, 0.8222011872581062], [0.26949132759956773, 0.5951815967843955], [0.5952136899486536, 0.25031939108734524], [0.15222765815722572, 0.57238670393956]]\n",
      "[0, 0, 0, 0, 1, 1, 0, 1, 0, 0, 1, 0, 1, 1, 0, 1, 1, 0, 1, 1, 0, 1, 0, 1, 1, 0, 0, 0, 1, 0, 0, 0, 1, 1, 0, 0, 0, 0, 1, 0, 0, 1, 1, 1, 0, 0, 0, 0, 0, 1, 0, 0, 1, 1, 1, 1, 1, 0, 1, 1, 0, 0, 0, 1, 0, 1, 1, 0, 0, 1, 0, 0, 0, 0, 1, 1, 0, 1, 1, 1, 1, 1, 1, 0, 1, 0, 1, 0, 0, 1, 1, 0, 1, 1, 0, 0, 1, 0, 0, 0]\n"
     ]
    }
   ],
   "source": [
    "\n",
    "X=[]\n",
    "Y=[]\n",
    "\n",
    "for _ in range(100):\n",
    "    row=[]\n",
    "    x1 = random()\n",
    "    x2 = random()\n",
    "    px1=str(round(x1,3))\n",
    "    px2=str(round(x2,3))\n",
    "    row.append(x1)\n",
    "    row.append(x2)\n",
    "    X.append(row)\n",
    "    #print(float(px1), float(px2))\n",
    "    if x1+x2>1:  \n",
    "        z=1\n",
    "        Y.append(z)    \n",
    "    else: \n",
    "        z=0\n",
    "        Y.append(z)\n",
    "\n",
    "\n",
    "print(X)\n",
    "print(Y)"
   ]
  },
  {
   "cell_type": "code",
   "execution_count": 3,
   "metadata": {},
   "outputs": [
    {
     "name": "stdout",
     "output_type": "stream",
     "text": [
      "[16:06:48] 120x4 matrix with 480 entries loaded from dtrain.svm\n",
      "[16:06:48] 30x4 matrix with 120 entries loaded from dtest.svm\n"
     ]
    }
   ],
   "source": [
    "X_train, X_test, Y_train, Y_test = train_test_split(X, Y, test_size=0.2, random_state=42)\n",
    "\n",
    "dtrain = xgb.DMatrix(X[0:70],label=Y[0:70])\n",
    "dtest = xgb.DMatrix(X[71:100],label=Y[71:100])\n",
    "\n",
    "dtrain_svm = xgb.DMatrix('dtrain.svm')\n",
    "dtest_svm = xgb.DMatrix('dtest.svm')"
   ]
  },
  {
   "cell_type": "code",
   "execution_count": 4,
   "metadata": {},
   "outputs": [],
   "source": [
    "param = {\n",
    "        'max_depth': 3, \n",
    "        'eta': 2, \n",
    "        'objective': 'binary:logistic'\n",
    "        }\n",
    "param['nthread'] = 4\n",
    "param['eval_metric'] = 'auc'\n",
    "evallist = [(dtest, 'eval'), (dtrain, 'train')]\n",
    "num_round = 5"
   ]
  },
  {
   "cell_type": "code",
   "execution_count": 5,
   "metadata": {},
   "outputs": [
    {
     "name": "stdout",
     "output_type": "stream",
     "text": [
      "[0]\teval-auc:0.911905\ttrain-auc:0.980263\n",
      "[1]\teval-auc:0.940476\ttrain-auc:0.999178\n",
      "[2]\teval-auc:0.954762\ttrain-auc:0.999178\n",
      "[3]\teval-auc:0.959524\ttrain-auc:0.999178\n",
      "[4]\teval-auc:0.95\ttrain-auc:0.999178\n",
      "[7.1006583e-04 7.1006583e-04 7.1006583e-04 9.9938965e-01 9.9298626e-01\n",
      " 7.1006583e-04 9.9938965e-01 9.6329653e-01 2.0117332e-01 9.9938965e-01\n",
      " 9.9938965e-01 8.5231084e-01 7.7305779e-02 9.9844921e-01 7.1006583e-04\n",
      " 8.5231084e-01 7.1006583e-04 9.9525565e-01 9.9938965e-01 9.9525565e-01\n",
      " 7.1006583e-04 9.9938965e-01 2.0117332e-01 7.1006583e-04 2.0117332e-01\n",
      " 9.6329653e-01 2.7641600e-01 7.4347463e-03 1.4267606e-03]\n"
     ]
    }
   ],
   "source": [
    "bst = xgb.train(param, dtrain, num_round, evallist)\n",
    "preds = bst.predict(dtest)\n",
    "best_preds = np.asarray([np.argmax(line) for line in preds])\n",
    "print(preds)\n",
    "\n",
    "\n"
   ]
  },
  {
   "cell_type": "code",
   "execution_count": 6,
   "metadata": {},
   "outputs": [],
   "source": [
    "bst.save_model('0001.model')\n",
    "bst.dump_model('dump.raw.txt')"
   ]
  },
  {
   "cell_type": "code",
   "execution_count": 7,
   "metadata": {},
   "outputs": [],
   "source": [
    "# bst_svm = xgb.train(param, dtrain_svm, num_round)\n",
    "# preds_ = bst.predict(dtest_svm)\n",
    "# best_preds_svm = [np.argmax(line) for line in preds_]"
   ]
  },
  {
   "cell_type": "code",
   "execution_count": 8,
   "metadata": {},
   "outputs": [],
   "source": [
    "# bst_svm.save_model('0002.model')\n",
    "# bst_svm.dump_model('dump_svm.raw.txt','featmap.txt')"
   ]
  },
  {
   "cell_type": "code",
   "execution_count": 10,
   "metadata": {},
   "outputs": [],
   "source": [
    "bst = xgb.Booster({'nthread': 4})  # init model\n",
    "# bst.load_model('model.bin')  # load data\n",
    "\n"
   ]
  },
  {
   "cell_type": "code",
   "execution_count": 11,
   "metadata": {},
   "outputs": [
    {
     "ename": "ValueError",
     "evalue": "Found input variables with inconsistent numbers of samples: [20, 29]",
     "output_type": "error",
     "traceback": [
      "\u001b[1;31m---------------------------------------------------------------------------\u001b[0m",
      "\u001b[1;31mValueError\u001b[0m                                Traceback (most recent call last)",
      "\u001b[1;32m<ipython-input-11-cb15cf8955ae>\u001b[0m in \u001b[0;36m<module>\u001b[1;34m\u001b[0m\n\u001b[1;32m----> 1\u001b[1;33m \u001b[0mprint\u001b[0m\u001b[1;33m(\u001b[0m\u001b[1;34m\"Numpy array precision:{}\"\u001b[0m\u001b[1;33m.\u001b[0m\u001b[0mformat\u001b[0m\u001b[1;33m(\u001b[0m\u001b[0mprecision_score\u001b[0m\u001b[1;33m(\u001b[0m\u001b[0mY_test\u001b[0m\u001b[1;33m,\u001b[0m \u001b[0mbest_preds\u001b[0m \u001b[1;33m)\u001b[0m\u001b[1;33m)\u001b[0m\u001b[1;33m)\u001b[0m\u001b[1;33m\u001b[0m\u001b[1;33m\u001b[0m\u001b[0m\n\u001b[0m\u001b[0;32m      2\u001b[0m \u001b[1;33m\u001b[0m\u001b[0m\n\u001b[0;32m      3\u001b[0m \u001b[1;31m# print(\"Svm file precision:{}\".format(precision_score(Y_test, best_preds_svm)))\u001b[0m\u001b[1;33m\u001b[0m\u001b[1;33m\u001b[0m\u001b[1;33m\u001b[0m\u001b[0m\n",
      "\u001b[1;32mc:\\users\\tony\\desktop\\github\\xgboost-with-raymond\\venv\\lib\\site-packages\\sklearn\\metrics\\classification.py\u001b[0m in \u001b[0;36mprecision_score\u001b[1;34m(y_true, y_pred, labels, pos_label, average, sample_weight)\u001b[0m\n\u001b[0;32m   1567\u001b[0m                                                  \u001b[0maverage\u001b[0m\u001b[1;33m=\u001b[0m\u001b[0maverage\u001b[0m\u001b[1;33m,\u001b[0m\u001b[1;33m\u001b[0m\u001b[1;33m\u001b[0m\u001b[0m\n\u001b[0;32m   1568\u001b[0m                                                  \u001b[0mwarn_for\u001b[0m\u001b[1;33m=\u001b[0m\u001b[1;33m(\u001b[0m\u001b[1;34m'precision'\u001b[0m\u001b[1;33m,\u001b[0m\u001b[1;33m)\u001b[0m\u001b[1;33m,\u001b[0m\u001b[1;33m\u001b[0m\u001b[1;33m\u001b[0m\u001b[0m\n\u001b[1;32m-> 1569\u001b[1;33m                                                  sample_weight=sample_weight)\n\u001b[0m\u001b[0;32m   1570\u001b[0m     \u001b[1;32mreturn\u001b[0m \u001b[0mp\u001b[0m\u001b[1;33m\u001b[0m\u001b[1;33m\u001b[0m\u001b[0m\n\u001b[0;32m   1571\u001b[0m \u001b[1;33m\u001b[0m\u001b[0m\n",
      "\u001b[1;32mc:\\users\\tony\\desktop\\github\\xgboost-with-raymond\\venv\\lib\\site-packages\\sklearn\\metrics\\classification.py\u001b[0m in \u001b[0;36mprecision_recall_fscore_support\u001b[1;34m(y_true, y_pred, beta, labels, pos_label, average, warn_for, sample_weight)\u001b[0m\n\u001b[0;32m   1413\u001b[0m         \u001b[1;32mraise\u001b[0m \u001b[0mValueError\u001b[0m\u001b[1;33m(\u001b[0m\u001b[1;34m\"beta should be >0 in the F-beta score\"\u001b[0m\u001b[1;33m)\u001b[0m\u001b[1;33m\u001b[0m\u001b[1;33m\u001b[0m\u001b[0m\n\u001b[0;32m   1414\u001b[0m     labels = _check_set_wise_labels(y_true, y_pred, average, labels,\n\u001b[1;32m-> 1415\u001b[1;33m                                     pos_label)\n\u001b[0m\u001b[0;32m   1416\u001b[0m \u001b[1;33m\u001b[0m\u001b[0m\n\u001b[0;32m   1417\u001b[0m     \u001b[1;31m# Calculate tp_sum, pred_sum, true_sum ###\u001b[0m\u001b[1;33m\u001b[0m\u001b[1;33m\u001b[0m\u001b[1;33m\u001b[0m\u001b[0m\n",
      "\u001b[1;32mc:\\users\\tony\\desktop\\github\\xgboost-with-raymond\\venv\\lib\\site-packages\\sklearn\\metrics\\classification.py\u001b[0m in \u001b[0;36m_check_set_wise_labels\u001b[1;34m(y_true, y_pred, average, labels, pos_label)\u001b[0m\n\u001b[0;32m   1237\u001b[0m                          str(average_options))\n\u001b[0;32m   1238\u001b[0m \u001b[1;33m\u001b[0m\u001b[0m\n\u001b[1;32m-> 1239\u001b[1;33m     \u001b[0my_type\u001b[0m\u001b[1;33m,\u001b[0m \u001b[0my_true\u001b[0m\u001b[1;33m,\u001b[0m \u001b[0my_pred\u001b[0m \u001b[1;33m=\u001b[0m \u001b[0m_check_targets\u001b[0m\u001b[1;33m(\u001b[0m\u001b[0my_true\u001b[0m\u001b[1;33m,\u001b[0m \u001b[0my_pred\u001b[0m\u001b[1;33m)\u001b[0m\u001b[1;33m\u001b[0m\u001b[1;33m\u001b[0m\u001b[0m\n\u001b[0m\u001b[0;32m   1240\u001b[0m     \u001b[0mpresent_labels\u001b[0m \u001b[1;33m=\u001b[0m \u001b[0munique_labels\u001b[0m\u001b[1;33m(\u001b[0m\u001b[0my_true\u001b[0m\u001b[1;33m,\u001b[0m \u001b[0my_pred\u001b[0m\u001b[1;33m)\u001b[0m\u001b[1;33m\u001b[0m\u001b[1;33m\u001b[0m\u001b[0m\n\u001b[0;32m   1241\u001b[0m     \u001b[1;32mif\u001b[0m \u001b[0maverage\u001b[0m \u001b[1;33m==\u001b[0m \u001b[1;34m'binary'\u001b[0m\u001b[1;33m:\u001b[0m\u001b[1;33m\u001b[0m\u001b[1;33m\u001b[0m\u001b[0m\n",
      "\u001b[1;32mc:\\users\\tony\\desktop\\github\\xgboost-with-raymond\\venv\\lib\\site-packages\\sklearn\\metrics\\classification.py\u001b[0m in \u001b[0;36m_check_targets\u001b[1;34m(y_true, y_pred)\u001b[0m\n\u001b[0;32m     69\u001b[0m     \u001b[0my_pred\u001b[0m \u001b[1;33m:\u001b[0m \u001b[0marray\u001b[0m \u001b[1;32mor\u001b[0m \u001b[0mindicator\u001b[0m \u001b[0mmatrix\u001b[0m\u001b[1;33m\u001b[0m\u001b[1;33m\u001b[0m\u001b[0m\n\u001b[0;32m     70\u001b[0m     \"\"\"\n\u001b[1;32m---> 71\u001b[1;33m     \u001b[0mcheck_consistent_length\u001b[0m\u001b[1;33m(\u001b[0m\u001b[0my_true\u001b[0m\u001b[1;33m,\u001b[0m \u001b[0my_pred\u001b[0m\u001b[1;33m)\u001b[0m\u001b[1;33m\u001b[0m\u001b[1;33m\u001b[0m\u001b[0m\n\u001b[0m\u001b[0;32m     72\u001b[0m     \u001b[0mtype_true\u001b[0m \u001b[1;33m=\u001b[0m \u001b[0mtype_of_target\u001b[0m\u001b[1;33m(\u001b[0m\u001b[0my_true\u001b[0m\u001b[1;33m)\u001b[0m\u001b[1;33m\u001b[0m\u001b[1;33m\u001b[0m\u001b[0m\n\u001b[0;32m     73\u001b[0m     \u001b[0mtype_pred\u001b[0m \u001b[1;33m=\u001b[0m \u001b[0mtype_of_target\u001b[0m\u001b[1;33m(\u001b[0m\u001b[0my_pred\u001b[0m\u001b[1;33m)\u001b[0m\u001b[1;33m\u001b[0m\u001b[1;33m\u001b[0m\u001b[0m\n",
      "\u001b[1;32mc:\\users\\tony\\desktop\\github\\xgboost-with-raymond\\venv\\lib\\site-packages\\sklearn\\utils\\validation.py\u001b[0m in \u001b[0;36mcheck_consistent_length\u001b[1;34m(*arrays)\u001b[0m\n\u001b[0;32m    203\u001b[0m     \u001b[1;32mif\u001b[0m \u001b[0mlen\u001b[0m\u001b[1;33m(\u001b[0m\u001b[0muniques\u001b[0m\u001b[1;33m)\u001b[0m \u001b[1;33m>\u001b[0m \u001b[1;36m1\u001b[0m\u001b[1;33m:\u001b[0m\u001b[1;33m\u001b[0m\u001b[1;33m\u001b[0m\u001b[0m\n\u001b[0;32m    204\u001b[0m         raise ValueError(\"Found input variables with inconsistent numbers of\"\n\u001b[1;32m--> 205\u001b[1;33m                          \" samples: %r\" % [int(l) for l in lengths])\n\u001b[0m\u001b[0;32m    206\u001b[0m \u001b[1;33m\u001b[0m\u001b[0m\n\u001b[0;32m    207\u001b[0m \u001b[1;33m\u001b[0m\u001b[0m\n",
      "\u001b[1;31mValueError\u001b[0m: Found input variables with inconsistent numbers of samples: [20, 29]"
     ]
    }
   ],
   "source": [
    "print(\"Numpy array precision:{}\".format(precision_score(Y_test, best_preds )))\n",
    "    \n",
    "# print(\"Svm file precision:{}\".format(precision_score(Y_test, best_preds_svm)))"
   ]
  }
 ],
 "metadata": {
  "kernelspec": {
   "display_name": "Python 3",
   "language": "python",
   "name": "python3"
  },
  "language_info": {
   "codemirror_mode": {
    "name": "ipython",
    "version": 3
   },
   "file_extension": ".py",
   "mimetype": "text/x-python",
   "name": "python",
   "nbconvert_exporter": "python",
   "pygments_lexer": "ipython3",
   "version": "3.7.4"
  }
 },
 "nbformat": 4,
 "nbformat_minor": 2
}
